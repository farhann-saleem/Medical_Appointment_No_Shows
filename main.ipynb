{
 "cells": [
  {
   "cell_type": "markdown",
   "id": "18e1571c",
   "metadata": {},
   "source": [
    "# Medical Appointment No-Show Prediction\n",
    "\n",
    "This notebook covers the journey from raw data cleaning to machine learning model evaluation for no-show prediction in healthcare.\n"
   ]
  },
  {
   "cell_type": "code",
   "execution_count": 1,
   "id": "8d1b5b75",
   "metadata": {},
   "outputs": [],
   "source": [
    "import pandas as pd\n",
    "import numpy as np\n",
    "import matplotlib.pyplot as plt\n",
    "import seaborn as sns\n",
    "import warnings\n",
    "warnings.filterwarnings(\"ignore\")"
   ]
  },
  {
   "cell_type": "code",
   "execution_count": 2,
   "id": "82bfa239",
   "metadata": {},
   "outputs": [
    {
     "data": {
      "application/vnd.microsoft.datawrangler.viewer.v0+json": {
       "columns": [
        {
         "name": "index",
         "rawType": "int64",
         "type": "integer"
        },
        {
         "name": "PatientId",
         "rawType": "float64",
         "type": "float"
        },
        {
         "name": "AppointmentID",
         "rawType": "int64",
         "type": "integer"
        },
        {
         "name": "Gender",
         "rawType": "object",
         "type": "string"
        },
        {
         "name": "ScheduledDay",
         "rawType": "object",
         "type": "string"
        },
        {
         "name": "AppointmentDay",
         "rawType": "object",
         "type": "string"
        },
        {
         "name": "Age",
         "rawType": "int64",
         "type": "integer"
        },
        {
         "name": "Neighbourhood",
         "rawType": "object",
         "type": "string"
        },
        {
         "name": "Scholarship",
         "rawType": "int64",
         "type": "integer"
        },
        {
         "name": "Hipertension",
         "rawType": "int64",
         "type": "integer"
        },
        {
         "name": "Diabetes",
         "rawType": "int64",
         "type": "integer"
        },
        {
         "name": "Alcoholism",
         "rawType": "int64",
         "type": "integer"
        },
        {
         "name": "Handcap",
         "rawType": "int64",
         "type": "integer"
        },
        {
         "name": "SMS_received",
         "rawType": "int64",
         "type": "integer"
        },
        {
         "name": "No-show",
         "rawType": "object",
         "type": "string"
        }
       ],
       "ref": "bbc39a14-91ec-416a-b9dc-8f249981ebd7",
       "rows": [
        [
         "0",
         "29872499824296.0",
         "5642903",
         "F",
         "2016-04-29T18:38:08Z",
         "2016-04-29T00:00:00Z",
         "62",
         "JARDIM DA PENHA",
         "0",
         "1",
         "0",
         "0",
         "0",
         "0",
         "No"
        ],
        [
         "1",
         "558997776694438.0",
         "5642503",
         "M",
         "2016-04-29T16:08:27Z",
         "2016-04-29T00:00:00Z",
         "56",
         "JARDIM DA PENHA",
         "0",
         "0",
         "0",
         "0",
         "0",
         "0",
         "No"
        ],
        [
         "2",
         "4262962299951.0",
         "5642549",
         "F",
         "2016-04-29T16:19:04Z",
         "2016-04-29T00:00:00Z",
         "62",
         "MATA DA PRAIA",
         "0",
         "0",
         "0",
         "0",
         "0",
         "0",
         "No"
        ],
        [
         "3",
         "867951213174.0",
         "5642828",
         "F",
         "2016-04-29T17:29:31Z",
         "2016-04-29T00:00:00Z",
         "8",
         "PONTAL DE CAMBURI",
         "0",
         "0",
         "0",
         "0",
         "0",
         "0",
         "No"
        ],
        [
         "4",
         "8841186448183.0",
         "5642494",
         "F",
         "2016-04-29T16:07:23Z",
         "2016-04-29T00:00:00Z",
         "56",
         "JARDIM DA PENHA",
         "0",
         "1",
         "1",
         "0",
         "0",
         "0",
         "No"
        ]
       ],
       "shape": {
        "columns": 14,
        "rows": 5
       }
      },
      "text/html": [
       "<div>\n",
       "<style scoped>\n",
       "    .dataframe tbody tr th:only-of-type {\n",
       "        vertical-align: middle;\n",
       "    }\n",
       "\n",
       "    .dataframe tbody tr th {\n",
       "        vertical-align: top;\n",
       "    }\n",
       "\n",
       "    .dataframe thead th {\n",
       "        text-align: right;\n",
       "    }\n",
       "</style>\n",
       "<table border=\"1\" class=\"dataframe\">\n",
       "  <thead>\n",
       "    <tr style=\"text-align: right;\">\n",
       "      <th></th>\n",
       "      <th>PatientId</th>\n",
       "      <th>AppointmentID</th>\n",
       "      <th>Gender</th>\n",
       "      <th>ScheduledDay</th>\n",
       "      <th>AppointmentDay</th>\n",
       "      <th>Age</th>\n",
       "      <th>Neighbourhood</th>\n",
       "      <th>Scholarship</th>\n",
       "      <th>Hipertension</th>\n",
       "      <th>Diabetes</th>\n",
       "      <th>Alcoholism</th>\n",
       "      <th>Handcap</th>\n",
       "      <th>SMS_received</th>\n",
       "      <th>No-show</th>\n",
       "    </tr>\n",
       "  </thead>\n",
       "  <tbody>\n",
       "    <tr>\n",
       "      <th>0</th>\n",
       "      <td>2.987250e+13</td>\n",
       "      <td>5642903</td>\n",
       "      <td>F</td>\n",
       "      <td>2016-04-29T18:38:08Z</td>\n",
       "      <td>2016-04-29T00:00:00Z</td>\n",
       "      <td>62</td>\n",
       "      <td>JARDIM DA PENHA</td>\n",
       "      <td>0</td>\n",
       "      <td>1</td>\n",
       "      <td>0</td>\n",
       "      <td>0</td>\n",
       "      <td>0</td>\n",
       "      <td>0</td>\n",
       "      <td>No</td>\n",
       "    </tr>\n",
       "    <tr>\n",
       "      <th>1</th>\n",
       "      <td>5.589978e+14</td>\n",
       "      <td>5642503</td>\n",
       "      <td>M</td>\n",
       "      <td>2016-04-29T16:08:27Z</td>\n",
       "      <td>2016-04-29T00:00:00Z</td>\n",
       "      <td>56</td>\n",
       "      <td>JARDIM DA PENHA</td>\n",
       "      <td>0</td>\n",
       "      <td>0</td>\n",
       "      <td>0</td>\n",
       "      <td>0</td>\n",
       "      <td>0</td>\n",
       "      <td>0</td>\n",
       "      <td>No</td>\n",
       "    </tr>\n",
       "    <tr>\n",
       "      <th>2</th>\n",
       "      <td>4.262962e+12</td>\n",
       "      <td>5642549</td>\n",
       "      <td>F</td>\n",
       "      <td>2016-04-29T16:19:04Z</td>\n",
       "      <td>2016-04-29T00:00:00Z</td>\n",
       "      <td>62</td>\n",
       "      <td>MATA DA PRAIA</td>\n",
       "      <td>0</td>\n",
       "      <td>0</td>\n",
       "      <td>0</td>\n",
       "      <td>0</td>\n",
       "      <td>0</td>\n",
       "      <td>0</td>\n",
       "      <td>No</td>\n",
       "    </tr>\n",
       "    <tr>\n",
       "      <th>3</th>\n",
       "      <td>8.679512e+11</td>\n",
       "      <td>5642828</td>\n",
       "      <td>F</td>\n",
       "      <td>2016-04-29T17:29:31Z</td>\n",
       "      <td>2016-04-29T00:00:00Z</td>\n",
       "      <td>8</td>\n",
       "      <td>PONTAL DE CAMBURI</td>\n",
       "      <td>0</td>\n",
       "      <td>0</td>\n",
       "      <td>0</td>\n",
       "      <td>0</td>\n",
       "      <td>0</td>\n",
       "      <td>0</td>\n",
       "      <td>No</td>\n",
       "    </tr>\n",
       "    <tr>\n",
       "      <th>4</th>\n",
       "      <td>8.841186e+12</td>\n",
       "      <td>5642494</td>\n",
       "      <td>F</td>\n",
       "      <td>2016-04-29T16:07:23Z</td>\n",
       "      <td>2016-04-29T00:00:00Z</td>\n",
       "      <td>56</td>\n",
       "      <td>JARDIM DA PENHA</td>\n",
       "      <td>0</td>\n",
       "      <td>1</td>\n",
       "      <td>1</td>\n",
       "      <td>0</td>\n",
       "      <td>0</td>\n",
       "      <td>0</td>\n",
       "      <td>No</td>\n",
       "    </tr>\n",
       "  </tbody>\n",
       "</table>\n",
       "</div>"
      ],
      "text/plain": [
       "      PatientId  AppointmentID Gender          ScheduledDay  \\\n",
       "0  2.987250e+13        5642903      F  2016-04-29T18:38:08Z   \n",
       "1  5.589978e+14        5642503      M  2016-04-29T16:08:27Z   \n",
       "2  4.262962e+12        5642549      F  2016-04-29T16:19:04Z   \n",
       "3  8.679512e+11        5642828      F  2016-04-29T17:29:31Z   \n",
       "4  8.841186e+12        5642494      F  2016-04-29T16:07:23Z   \n",
       "\n",
       "         AppointmentDay  Age      Neighbourhood  Scholarship  Hipertension  \\\n",
       "0  2016-04-29T00:00:00Z   62    JARDIM DA PENHA            0             1   \n",
       "1  2016-04-29T00:00:00Z   56    JARDIM DA PENHA            0             0   \n",
       "2  2016-04-29T00:00:00Z   62      MATA DA PRAIA            0             0   \n",
       "3  2016-04-29T00:00:00Z    8  PONTAL DE CAMBURI            0             0   \n",
       "4  2016-04-29T00:00:00Z   56    JARDIM DA PENHA            0             1   \n",
       "\n",
       "   Diabetes  Alcoholism  Handcap  SMS_received No-show  \n",
       "0         0           0        0             0      No  \n",
       "1         0           0        0             0      No  \n",
       "2         0           0        0             0      No  \n",
       "3         0           0        0             0      No  \n",
       "4         1           0        0             0      No  "
      ]
     },
     "execution_count": 2,
     "metadata": {},
     "output_type": "execute_result"
    }
   ],
   "source": [
    "df=pd.read_csv('KaggleV2-May-2016.csv')\n",
    "df.head()"
   ]
  },
  {
   "cell_type": "code",
   "execution_count": 3,
   "id": "6c5cf70d",
   "metadata": {},
   "outputs": [
    {
     "data": {
      "text/plain": [
       "Index(['PatientId', 'AppointmentID', 'Gender', 'ScheduledDay',\n",
       "       'AppointmentDay', 'Age', 'Neighbourhood', 'Scholarship', 'Hipertension',\n",
       "       'Diabetes', 'Alcoholism', 'Handcap', 'SMS_received', 'No-show'],\n",
       "      dtype='object')"
      ]
     },
     "execution_count": 3,
     "metadata": {},
     "output_type": "execute_result"
    }
   ],
   "source": [
    "df.columns"
   ]
  },
  {
   "cell_type": "code",
   "execution_count": 4,
   "id": "fdf81546",
   "metadata": {},
   "outputs": [
    {
     "data": {
      "text/plain": [
       "(110527, 14)"
      ]
     },
     "execution_count": 4,
     "metadata": {},
     "output_type": "execute_result"
    }
   ],
   "source": [
    "df.shape"
   ]
  },
  {
   "cell_type": "markdown",
   "id": "47cf265b",
   "metadata": {},
   "source": [
    "## Data Cleaning and Feature Engineering\n",
    "\n",
    "We handle missing values, correct date/time inconsistencies, and explore basic statistics and feature distributions.\n"
   ]
  },
  {
   "cell_type": "code",
   "execution_count": 5,
   "id": "8ea8f02e",
   "metadata": {},
   "outputs": [],
   "source": [
    "df.drop(['PatientId', 'AppointmentID'] , axis=1 , inplace=True)\n",
    "df['No-show']=df['No-show'].map({\"Yes\":1 , \"No\":0})"
   ]
  },
  {
   "cell_type": "code",
   "execution_count": 6,
   "id": "2a854200",
   "metadata": {},
   "outputs": [
    {
     "data": {
      "application/vnd.microsoft.datawrangler.viewer.v0+json": {
       "columns": [
        {
         "name": "No-show",
         "rawType": "int64",
         "type": "integer"
        },
        {
         "name": "count",
         "rawType": "int64",
         "type": "integer"
        }
       ],
       "ref": "c9d9ccd4-2f1a-4cf3-81a8-6da0a3929d3e",
       "rows": [
        [
         "0",
         "88208"
        ],
        [
         "1",
         "22319"
        ]
       ],
       "shape": {
        "columns": 1,
        "rows": 2
       }
      },
      "text/plain": [
       "No-show\n",
       "0    88208\n",
       "1    22319\n",
       "Name: count, dtype: int64"
      ]
     },
     "execution_count": 6,
     "metadata": {},
     "output_type": "execute_result"
    }
   ],
   "source": [
    "df['No-show'].value_counts()"
   ]
  },
  {
   "cell_type": "code",
   "execution_count": 7,
   "id": "7460aa5c",
   "metadata": {},
   "outputs": [],
   "source": [
    "df['ScheduledDay']=pd.to_datetime(df['ScheduledDay'])\n",
    "df['AppointmentDay']=pd.to_datetime(df['AppointmentDay'])\n",
    "\n"
   ]
  },
  {
   "cell_type": "code",
   "execution_count": 8,
   "id": "e29b1979",
   "metadata": {},
   "outputs": [],
   "source": [
    "df['Scheduled_Date']=df['ScheduledDay'].dt.date\n",
    "df['Appointment_Date']=df['AppointmentDay'].dt.date\n"
   ]
  },
  {
   "cell_type": "code",
   "execution_count": 9,
   "id": "774846af",
   "metadata": {},
   "outputs": [],
   "source": [
    "df['Scheduled_Time']=df['ScheduledDay'].dt.time\n",
    "df['Appointment_Time']=df['AppointmentDay'].dt.time\n"
   ]
  },
  {
   "cell_type": "code",
   "execution_count": 10,
   "id": "3be5f0d2",
   "metadata": {},
   "outputs": [
    {
     "data": {
      "application/vnd.microsoft.datawrangler.viewer.v0+json": {
       "columns": [
        {
         "name": "index",
         "rawType": "int64",
         "type": "integer"
        },
        {
         "name": "Scheduled_Date",
         "rawType": "object",
         "type": "unknown"
        }
       ],
       "ref": "22b0a8cf-4b5a-40ff-a568-ae84d6e86044",
       "rows": [
        [
         "0",
         "2016-04-29"
        ],
        [
         "1",
         "2016-04-29"
        ],
        [
         "2",
         "2016-04-29"
        ],
        [
         "3",
         "2016-04-29"
        ],
        [
         "4",
         "2016-04-29"
        ],
        [
         "5",
         "2016-04-27"
        ],
        [
         "6",
         "2016-04-27"
        ],
        [
         "7",
         "2016-04-27"
        ],
        [
         "8",
         "2016-04-29"
        ],
        [
         "9",
         "2016-04-27"
        ],
        [
         "10",
         "2016-04-27"
        ],
        [
         "11",
         "2016-04-26"
        ],
        [
         "12",
         "2016-04-28"
        ],
        [
         "13",
         "2016-04-28"
        ],
        [
         "14",
         "2016-04-28"
        ],
        [
         "15",
         "2016-04-26"
        ],
        [
         "16",
         "2016-04-28"
        ],
        [
         "17",
         "2016-04-28"
        ],
        [
         "18",
         "2016-04-26"
        ],
        [
         "19",
         "2016-04-29"
        ],
        [
         "20",
         "2016-04-27"
        ],
        [
         "21",
         "2016-04-27"
        ],
        [
         "22",
         "2016-04-25"
        ],
        [
         "23",
         "2016-04-28"
        ],
        [
         "24",
         "2016-04-29"
        ],
        [
         "25",
         "2016-04-26"
        ],
        [
         "26",
         "2016-04-29"
        ],
        [
         "27",
         "2016-04-27"
        ],
        [
         "28",
         "2016-04-29"
        ],
        [
         "29",
         "2016-04-29"
        ],
        [
         "30",
         "2016-04-27"
        ],
        [
         "31",
         "2016-04-27"
        ],
        [
         "32",
         "2016-04-29"
        ],
        [
         "33",
         "2016-04-25"
        ],
        [
         "34",
         "2016-04-29"
        ],
        [
         "35",
         "2016-04-29"
        ],
        [
         "36",
         "2016-04-29"
        ],
        [
         "37",
         "2016-04-29"
        ],
        [
         "38",
         "2016-04-20"
        ],
        [
         "39",
         "2016-04-29"
        ],
        [
         "40",
         "2016-04-28"
        ],
        [
         "41",
         "2016-04-28"
        ],
        [
         "42",
         "2016-04-28"
        ],
        [
         "43",
         "2016-04-29"
        ],
        [
         "44",
         "2016-04-28"
        ],
        [
         "45",
         "2016-04-28"
        ],
        [
         "46",
         "2016-04-25"
        ],
        [
         "47",
         "2016-04-28"
        ],
        [
         "48",
         "2016-04-26"
        ],
        [
         "49",
         "2016-03-31"
        ]
       ],
       "shape": {
        "columns": 1,
        "rows": 110527
       }
      },
      "text/plain": [
       "0         2016-04-29\n",
       "1         2016-04-29\n",
       "2         2016-04-29\n",
       "3         2016-04-29\n",
       "4         2016-04-29\n",
       "             ...    \n",
       "110522    2016-05-03\n",
       "110523    2016-05-03\n",
       "110524    2016-04-27\n",
       "110525    2016-04-27\n",
       "110526    2016-04-27\n",
       "Name: Scheduled_Date, Length: 110527, dtype: object"
      ]
     },
     "execution_count": 10,
     "metadata": {},
     "output_type": "execute_result"
    }
   ],
   "source": [
    "df['Scheduled_Date']"
   ]
  },
  {
   "cell_type": "code",
   "execution_count": 11,
   "id": "f86234d2",
   "metadata": {},
   "outputs": [],
   "source": [
    "df['days_difference'] = (df['AppointmentDay'].dt.date - df['ScheduledDay'].dt.date).apply(lambda x: x.days)\n"
   ]
  },
  {
   "cell_type": "code",
   "execution_count": 12,
   "id": "310251d3",
   "metadata": {},
   "outputs": [
    {
     "data": {
      "application/vnd.microsoft.datawrangler.viewer.v0+json": {
       "columns": [
        {
         "name": "index",
         "rawType": "int64",
         "type": "integer"
        },
        {
         "name": "AppointmentDay",
         "rawType": "datetime64[ns, UTC]",
         "type": "unknown"
        },
        {
         "name": "ScheduledDay",
         "rawType": "datetime64[ns, UTC]",
         "type": "unknown"
        },
        {
         "name": "Scheduled_Date",
         "rawType": "object",
         "type": "unknown"
        },
        {
         "name": "Scheduled_Time",
         "rawType": "object",
         "type": "unknown"
        },
        {
         "name": "Appointment_Date",
         "rawType": "object",
         "type": "unknown"
        },
        {
         "name": "Appointment_Time",
         "rawType": "object",
         "type": "unknown"
        },
        {
         "name": "days_difference",
         "rawType": "int64",
         "type": "integer"
        }
       ],
       "ref": "10d457e0-00d1-4476-82e0-31399c0402b6",
       "rows": [
        [
         "0",
         "2016-04-29 00:00:00+00:00",
         "2016-04-29 18:38:08+00:00",
         "2016-04-29",
         "18:38:08",
         "2016-04-29",
         "00:00:00",
         "0"
        ],
        [
         "1",
         "2016-04-29 00:00:00+00:00",
         "2016-04-29 16:08:27+00:00",
         "2016-04-29",
         "16:08:27",
         "2016-04-29",
         "00:00:00",
         "0"
        ],
        [
         "2",
         "2016-04-29 00:00:00+00:00",
         "2016-04-29 16:19:04+00:00",
         "2016-04-29",
         "16:19:04",
         "2016-04-29",
         "00:00:00",
         "0"
        ],
        [
         "3",
         "2016-04-29 00:00:00+00:00",
         "2016-04-29 17:29:31+00:00",
         "2016-04-29",
         "17:29:31",
         "2016-04-29",
         "00:00:00",
         "0"
        ],
        [
         "4",
         "2016-04-29 00:00:00+00:00",
         "2016-04-29 16:07:23+00:00",
         "2016-04-29",
         "16:07:23",
         "2016-04-29",
         "00:00:00",
         "0"
        ],
        [
         "5",
         "2016-04-29 00:00:00+00:00",
         "2016-04-27 08:36:51+00:00",
         "2016-04-27",
         "08:36:51",
         "2016-04-29",
         "00:00:00",
         "2"
        ],
        [
         "6",
         "2016-04-29 00:00:00+00:00",
         "2016-04-27 15:05:12+00:00",
         "2016-04-27",
         "15:05:12",
         "2016-04-29",
         "00:00:00",
         "2"
        ],
        [
         "7",
         "2016-04-29 00:00:00+00:00",
         "2016-04-27 15:39:58+00:00",
         "2016-04-27",
         "15:39:58",
         "2016-04-29",
         "00:00:00",
         "2"
        ],
        [
         "8",
         "2016-04-29 00:00:00+00:00",
         "2016-04-29 08:02:16+00:00",
         "2016-04-29",
         "08:02:16",
         "2016-04-29",
         "00:00:00",
         "0"
        ],
        [
         "9",
         "2016-04-29 00:00:00+00:00",
         "2016-04-27 12:48:25+00:00",
         "2016-04-27",
         "12:48:25",
         "2016-04-29",
         "00:00:00",
         "2"
        ]
       ],
       "shape": {
        "columns": 7,
        "rows": 10
       }
      },
      "text/html": [
       "<div>\n",
       "<style scoped>\n",
       "    .dataframe tbody tr th:only-of-type {\n",
       "        vertical-align: middle;\n",
       "    }\n",
       "\n",
       "    .dataframe tbody tr th {\n",
       "        vertical-align: top;\n",
       "    }\n",
       "\n",
       "    .dataframe thead th {\n",
       "        text-align: right;\n",
       "    }\n",
       "</style>\n",
       "<table border=\"1\" class=\"dataframe\">\n",
       "  <thead>\n",
       "    <tr style=\"text-align: right;\">\n",
       "      <th></th>\n",
       "      <th>AppointmentDay</th>\n",
       "      <th>ScheduledDay</th>\n",
       "      <th>Scheduled_Date</th>\n",
       "      <th>Scheduled_Time</th>\n",
       "      <th>Appointment_Date</th>\n",
       "      <th>Appointment_Time</th>\n",
       "      <th>days_difference</th>\n",
       "    </tr>\n",
       "  </thead>\n",
       "  <tbody>\n",
       "    <tr>\n",
       "      <th>0</th>\n",
       "      <td>2016-04-29 00:00:00+00:00</td>\n",
       "      <td>2016-04-29 18:38:08+00:00</td>\n",
       "      <td>2016-04-29</td>\n",
       "      <td>18:38:08</td>\n",
       "      <td>2016-04-29</td>\n",
       "      <td>00:00:00</td>\n",
       "      <td>0</td>\n",
       "    </tr>\n",
       "    <tr>\n",
       "      <th>1</th>\n",
       "      <td>2016-04-29 00:00:00+00:00</td>\n",
       "      <td>2016-04-29 16:08:27+00:00</td>\n",
       "      <td>2016-04-29</td>\n",
       "      <td>16:08:27</td>\n",
       "      <td>2016-04-29</td>\n",
       "      <td>00:00:00</td>\n",
       "      <td>0</td>\n",
       "    </tr>\n",
       "    <tr>\n",
       "      <th>2</th>\n",
       "      <td>2016-04-29 00:00:00+00:00</td>\n",
       "      <td>2016-04-29 16:19:04+00:00</td>\n",
       "      <td>2016-04-29</td>\n",
       "      <td>16:19:04</td>\n",
       "      <td>2016-04-29</td>\n",
       "      <td>00:00:00</td>\n",
       "      <td>0</td>\n",
       "    </tr>\n",
       "    <tr>\n",
       "      <th>3</th>\n",
       "      <td>2016-04-29 00:00:00+00:00</td>\n",
       "      <td>2016-04-29 17:29:31+00:00</td>\n",
       "      <td>2016-04-29</td>\n",
       "      <td>17:29:31</td>\n",
       "      <td>2016-04-29</td>\n",
       "      <td>00:00:00</td>\n",
       "      <td>0</td>\n",
       "    </tr>\n",
       "    <tr>\n",
       "      <th>4</th>\n",
       "      <td>2016-04-29 00:00:00+00:00</td>\n",
       "      <td>2016-04-29 16:07:23+00:00</td>\n",
       "      <td>2016-04-29</td>\n",
       "      <td>16:07:23</td>\n",
       "      <td>2016-04-29</td>\n",
       "      <td>00:00:00</td>\n",
       "      <td>0</td>\n",
       "    </tr>\n",
       "    <tr>\n",
       "      <th>5</th>\n",
       "      <td>2016-04-29 00:00:00+00:00</td>\n",
       "      <td>2016-04-27 08:36:51+00:00</td>\n",
       "      <td>2016-04-27</td>\n",
       "      <td>08:36:51</td>\n",
       "      <td>2016-04-29</td>\n",
       "      <td>00:00:00</td>\n",
       "      <td>2</td>\n",
       "    </tr>\n",
       "    <tr>\n",
       "      <th>6</th>\n",
       "      <td>2016-04-29 00:00:00+00:00</td>\n",
       "      <td>2016-04-27 15:05:12+00:00</td>\n",
       "      <td>2016-04-27</td>\n",
       "      <td>15:05:12</td>\n",
       "      <td>2016-04-29</td>\n",
       "      <td>00:00:00</td>\n",
       "      <td>2</td>\n",
       "    </tr>\n",
       "    <tr>\n",
       "      <th>7</th>\n",
       "      <td>2016-04-29 00:00:00+00:00</td>\n",
       "      <td>2016-04-27 15:39:58+00:00</td>\n",
       "      <td>2016-04-27</td>\n",
       "      <td>15:39:58</td>\n",
       "      <td>2016-04-29</td>\n",
       "      <td>00:00:00</td>\n",
       "      <td>2</td>\n",
       "    </tr>\n",
       "    <tr>\n",
       "      <th>8</th>\n",
       "      <td>2016-04-29 00:00:00+00:00</td>\n",
       "      <td>2016-04-29 08:02:16+00:00</td>\n",
       "      <td>2016-04-29</td>\n",
       "      <td>08:02:16</td>\n",
       "      <td>2016-04-29</td>\n",
       "      <td>00:00:00</td>\n",
       "      <td>0</td>\n",
       "    </tr>\n",
       "    <tr>\n",
       "      <th>9</th>\n",
       "      <td>2016-04-29 00:00:00+00:00</td>\n",
       "      <td>2016-04-27 12:48:25+00:00</td>\n",
       "      <td>2016-04-27</td>\n",
       "      <td>12:48:25</td>\n",
       "      <td>2016-04-29</td>\n",
       "      <td>00:00:00</td>\n",
       "      <td>2</td>\n",
       "    </tr>\n",
       "  </tbody>\n",
       "</table>\n",
       "</div>"
      ],
      "text/plain": [
       "             AppointmentDay              ScheduledDay Scheduled_Date  \\\n",
       "0 2016-04-29 00:00:00+00:00 2016-04-29 18:38:08+00:00     2016-04-29   \n",
       "1 2016-04-29 00:00:00+00:00 2016-04-29 16:08:27+00:00     2016-04-29   \n",
       "2 2016-04-29 00:00:00+00:00 2016-04-29 16:19:04+00:00     2016-04-29   \n",
       "3 2016-04-29 00:00:00+00:00 2016-04-29 17:29:31+00:00     2016-04-29   \n",
       "4 2016-04-29 00:00:00+00:00 2016-04-29 16:07:23+00:00     2016-04-29   \n",
       "5 2016-04-29 00:00:00+00:00 2016-04-27 08:36:51+00:00     2016-04-27   \n",
       "6 2016-04-29 00:00:00+00:00 2016-04-27 15:05:12+00:00     2016-04-27   \n",
       "7 2016-04-29 00:00:00+00:00 2016-04-27 15:39:58+00:00     2016-04-27   \n",
       "8 2016-04-29 00:00:00+00:00 2016-04-29 08:02:16+00:00     2016-04-29   \n",
       "9 2016-04-29 00:00:00+00:00 2016-04-27 12:48:25+00:00     2016-04-27   \n",
       "\n",
       "  Scheduled_Time Appointment_Date Appointment_Time  days_difference  \n",
       "0       18:38:08       2016-04-29         00:00:00                0  \n",
       "1       16:08:27       2016-04-29         00:00:00                0  \n",
       "2       16:19:04       2016-04-29         00:00:00                0  \n",
       "3       17:29:31       2016-04-29         00:00:00                0  \n",
       "4       16:07:23       2016-04-29         00:00:00                0  \n",
       "5       08:36:51       2016-04-29         00:00:00                2  \n",
       "6       15:05:12       2016-04-29         00:00:00                2  \n",
       "7       15:39:58       2016-04-29         00:00:00                2  \n",
       "8       08:02:16       2016-04-29         00:00:00                0  \n",
       "9       12:48:25       2016-04-29         00:00:00                2  "
      ]
     },
     "execution_count": 12,
     "metadata": {},
     "output_type": "execute_result"
    }
   ],
   "source": [
    "df[['AppointmentDay','ScheduledDay','Scheduled_Date','Scheduled_Time','Appointment_Date','Appointment_Time','days_difference']].head(10)"
   ]
  },
  {
   "cell_type": "code",
   "execution_count": 13,
   "id": "f0ac0fa6",
   "metadata": {},
   "outputs": [
    {
     "data": {
      "application/vnd.microsoft.datawrangler.viewer.v0+json": {
       "columns": [
        {
         "name": "days_difference",
         "rawType": "int64",
         "type": "integer"
        },
        {
         "name": "count",
         "rawType": "int64",
         "type": "integer"
        }
       ],
       "ref": "f6209599-0bb3-4cd2-a99c-ca45d9147ba3",
       "rows": [
        [
         "0",
         "38563"
        ],
        [
         "2",
         "6725"
        ],
        [
         "4",
         "5290"
        ],
        [
         "1",
         "5213"
        ],
        [
         "7",
         "4906"
        ],
        [
         "6",
         "4037"
        ],
        [
         "5",
         "3277"
        ],
        [
         "14",
         "2913"
        ],
        [
         "3",
         "2737"
        ],
        [
         "8",
         "2332"
        ],
        [
         "21",
         "1861"
        ],
        [
         "28",
         "1706"
        ],
        [
         "13",
         "1682"
        ],
        [
         "9",
         "1605"
        ],
        [
         "15",
         "1503"
        ],
        [
         "10",
         "1391"
        ],
        [
         "20",
         "1187"
        ],
        [
         "22",
         "1173"
        ],
        [
         "16",
         "1151"
        ],
        [
         "12",
         "1115"
        ],
        [
         "17",
         "1107"
        ],
        [
         "29",
         "1089"
        ],
        [
         "19",
         "1044"
        ],
        [
         "18",
         "1021"
        ],
        [
         "27",
         "1013"
        ],
        [
         "11",
         "987"
        ],
        [
         "35",
         "963"
        ],
        [
         "23",
         "822"
        ],
        [
         "34",
         "808"
        ],
        [
         "26",
         "731"
        ],
        [
         "30",
         "704"
        ],
        [
         "31",
         "672"
        ],
        [
         "33",
         "664"
        ],
        [
         "25",
         "637"
        ],
        [
         "24",
         "622"
        ],
        [
         "32",
         "586"
        ],
        [
         "36",
         "551"
        ],
        [
         "42",
         "417"
        ],
        [
         "41",
         "342"
        ],
        [
         "37",
         "331"
        ],
        [
         "43",
         "254"
        ],
        [
         "40",
         "254"
        ],
        [
         "49",
         "216"
        ],
        [
         "56",
         "203"
        ],
        [
         "63",
         "200"
        ],
        [
         "38",
         "199"
        ],
        [
         "62",
         "193"
        ],
        [
         "50",
         "182"
        ],
        [
         "39",
         "170"
        ],
        [
         "66",
         "162"
        ]
       ],
       "shape": {
        "columns": 1,
        "rows": 131
       }
      },
      "text/plain": [
       "days_difference\n",
       " 0      38563\n",
       " 2       6725\n",
       " 4       5290\n",
       " 1       5213\n",
       " 7       4906\n",
       "        ...  \n",
       "-6          1\n",
       " 132        1\n",
       " 117        1\n",
       " 146        1\n",
       " 123        1\n",
       "Name: count, Length: 131, dtype: int64"
      ]
     },
     "execution_count": 13,
     "metadata": {},
     "output_type": "execute_result"
    }
   ],
   "source": [
    "df['days_difference'].value_counts()"
   ]
  },
  {
   "cell_type": "markdown",
   "id": "250a1ddf",
   "metadata": {},
   "source": [
    "## Visualizing Feature Impact on No-Show\n",
    "\n",
    "Use `hue='No-show'` in seaborn plots to distinguish patterns between patients who showed up vs. no-shows.\n"
   ]
  },
  {
   "cell_type": "code",
   "execution_count": 14,
   "id": "94d8d2e1",
   "metadata": {},
   "outputs": [
    {
     "data": {
      "image/png": "[encoded data removed]",
      "text/plain": [
       "<Figure size 800x500 with 1 Axes>"
      ]
     },
     "metadata": {},
     "output_type": "display_data"
    }
   ],
   "source": [
    "plt.figure(figsize=(8,5))\n",
    "sns.histplot(data=df, x='days_difference', hue='No-show', multiple='stack', bins=50)\n",
    "plt.title(\"Distribution of Time Difference vs No-Show\")\n",
    "plt.xlabel(\"Days Between Scheduling and Appointment\")\n",
    "plt.ylabel(\"Count\")\n",
    "plt.show()"
   ]
  },
  {
   "cell_type": "code",
   "execution_count": 15,
   "id": "22809abe",
   "metadata": {},
   "outputs": [
    {
     "name": "stdout",
     "output_type": "stream",
     "text": [
      "                   ScheduledDay            AppointmentDay\n",
      "27033 2016-05-10 10:51:53+00:00 2016-05-09 00:00:00+00:00\n",
      "55226 2016-05-18 14:50:41+00:00 2016-05-17 00:00:00+00:00\n",
      "64175 2016-05-05 13:43:58+00:00 2016-05-04 00:00:00+00:00\n",
      "72362 2016-05-04 06:50:57+00:00 2016-05-03 00:00:00+00:00\n"
     ]
    }
   ],
   "source": [
    "negative_days = df[df['days_difference'] == -1][['ScheduledDay', 'AppointmentDay']]\n",
    "print(negative_days.head(10))\n"
   ]
  },
  {
   "cell_type": "code",
   "execution_count": 16,
   "id": "1b6406e9",
   "metadata": {},
   "outputs": [],
   "source": [
    "# After fixing date calculation:\n",
    "df = df[df['days_difference'] >= 0].copy()\n"
   ]
  },
  {
   "cell_type": "code",
   "execution_count": 17,
   "id": "06fa941b",
   "metadata": {},
   "outputs": [
    {
     "data": {
      "application/vnd.microsoft.datawrangler.viewer.v0+json": {
       "columns": [
        {
         "name": "Age",
         "rawType": "int64",
         "type": "integer"
        },
        {
         "name": "count",
         "rawType": "int64",
         "type": "integer"
        }
       ],
       "ref": "dd8b9c10-028a-41c7-8fdb-679148839515",
       "rows": [
        [
         "0",
         "3539"
        ],
        [
         "1",
         "2273"
        ],
        [
         "52",
         "1746"
        ],
        [
         "49",
         "1652"
        ],
        [
         "53",
         "1651"
        ],
        [
         "56",
         "1635"
        ],
        [
         "38",
         "1628"
        ],
        [
         "59",
         "1624"
        ],
        [
         "2",
         "1618"
        ],
        [
         "50",
         "1613"
        ],
        [
         "57",
         "1603"
        ],
        [
         "36",
         "1580"
        ],
        [
         "51",
         "1567"
        ],
        [
         "19",
         "1544"
        ],
        [
         "39",
         "1536"
        ],
        [
         "37",
         "1533"
        ],
        [
         "54",
         "1530"
        ],
        [
         "34",
         "1526"
        ],
        [
         "33",
         "1524"
        ],
        [
         "6",
         "1521"
        ],
        [
         "30",
         "1521"
        ],
        [
         "3",
         "1513"
        ],
        [
         "17",
         "1509"
        ],
        [
         "32",
         "1505"
        ],
        [
         "5",
         "1489"
        ],
        [
         "18",
         "1487"
        ],
        [
         "44",
         "1487"
        ],
        [
         "58",
         "1469"
        ],
        [
         "46",
         "1460"
        ],
        [
         "45",
         "1453"
        ],
        [
         "21",
         "1452"
        ],
        [
         "28",
         "1448"
        ],
        [
         "31",
         "1439"
        ],
        [
         "20",
         "1437"
        ],
        [
         "7",
         "1426"
        ],
        [
         "55",
         "1425"
        ],
        [
         "8",
         "1424"
        ],
        [
         "60",
         "1411"
        ],
        [
         "29",
         "1403"
        ],
        [
         "40",
         "1402"
        ],
        [
         "16",
         "1402"
        ],
        [
         "48",
         "1399"
        ],
        [
         "47",
         "1394"
        ],
        [
         "35",
         "1378"
        ],
        [
         "27",
         "1377"
        ],
        [
         "22",
         "1375"
        ],
        [
         "63",
         "1374"
        ],
        [
         "9",
         "1372"
        ],
        [
         "23",
         "1349"
        ],
        [
         "41",
         "1346"
        ]
       ],
       "shape": {
        "columns": 1,
        "rows": 104
       }
      },
      "text/plain": [
       "Age\n",
       " 0      3539\n",
       " 1      2273\n",
       " 52     1746\n",
       " 49     1652\n",
       " 53     1651\n",
       "        ... \n",
       " 115       5\n",
       " 100       4\n",
       " 102       2\n",
       " 99        1\n",
       "-1         1\n",
       "Name: count, Length: 104, dtype: int64"
      ]
     },
     "execution_count": 17,
     "metadata": {},
     "output_type": "execute_result"
    }
   ],
   "source": [
    "df['Age'].value_counts()"
   ]
  },
  {
   "cell_type": "code",
   "execution_count": 18,
   "id": "921b18c3",
   "metadata": {},
   "outputs": [
    {
     "data": {
      "text/plain": [
       "np.float64(38.0)"
      ]
     },
     "execution_count": 18,
     "metadata": {},
     "output_type": "execute_result"
    }
   ],
   "source": [
    "median_age=df.loc[ df['Age'] >0, 'Age' ].median()\n",
    "median_age"
   ]
  },
  {
   "cell_type": "code",
   "execution_count": 19,
   "id": "193b941c",
   "metadata": {},
   "outputs": [],
   "source": [
    "df.loc[ df['Age']==0 , 'Age']=median_age"
   ]
  },
  {
   "cell_type": "code",
   "execution_count": 20,
   "id": "693cc429",
   "metadata": {},
   "outputs": [],
   "source": [
    "df.loc[df[\"Age\"] > 100, \"Age\"] = median_age\n"
   ]
  },
  {
   "cell_type": "code",
   "execution_count": 21,
   "id": "d30a44f3",
   "metadata": {},
   "outputs": [
    {
     "data": {
      "image/png": "[encoded data removed]",
      "text/plain": [
       "<Figure size 1000x500 with 1 Axes>"
      ]
     },
     "metadata": {},
     "output_type": "display_data"
    }
   ],
   "source": [
    "plt.figure(figsize=(10,5))\n",
    "sns.histplot(df['Age'], bins=40, kde=True, color='steelblue')\n",
    "plt.title('Distribution of Patient Ages (After Cleaning)')\n",
    "plt.xlabel('Age')\n",
    "plt.ylabel('Count')\n",
    "plt.show()"
   ]
  },
  {
   "cell_type": "code",
   "execution_count": 22,
   "id": "cbad5347",
   "metadata": {},
   "outputs": [
    {
     "data": {
      "image/png": "[encoded data removed]",
      "text/plain": [
       "<Figure size 640x480 with 1 Axes>"
      ]
     },
     "metadata": {},
     "output_type": "display_data"
    }
   ],
   "source": [
    "import matplotlib.pyplot as plt\n",
    "\n",
    "sms_grouped = df.groupby('SMS_received')['No-show'].mean()\n",
    "sms_grouped.plot(kind='bar')\n",
    "plt.title('No-show Rate by SMS Reminder')\n",
    "plt.xlabel('SMS Received (0 = No, 1 = Yes)')\n",
    "plt.ylabel('Proportion of No-shows')\n",
    "plt.show()\n"
   ]
  },
  {
   "cell_type": "code",
   "execution_count": 23,
   "id": "0efd8d53",
   "metadata": {},
   "outputs": [
    {
     "data": {
      "image/png": "[encoded data removed]",
      "text/plain": [
       "<Figure size 600x400 with 1 Axes>"
      ]
     },
     "metadata": {},
     "output_type": "display_data"
    }
   ],
   "source": [
    "import seaborn as sns\n",
    "import matplotlib.pyplot as plt\n",
    "\n",
    "plt.figure(figsize=(6,4))\n",
    "sns.barplot(x='SMS_received', y='No-show', data=df)\n",
    "plt.title('No-show Rate by SMS Reminder')\n",
    "plt.xlabel('SMS Reminder Received (0=No, 1=Yes)')\n",
    "plt.ylabel('Average No-show Rate')\n",
    "plt.show()\n"
   ]
  },
  {
   "cell_type": "code",
   "execution_count": 24,
   "id": "dbd9b7b2",
   "metadata": {},
   "outputs": [
    {
     "data": {
      "image/png": "[encoded data removed]",
      "text/plain": [
       "<Figure size 600x400 with 1 Axes>"
      ]
     },
     "metadata": {},
     "output_type": "display_data"
    }
   ],
   "source": [
    "plt.figure(figsize=(6,4))\n",
    "sns.barplot(x='Scholarship', y='No-show', data=df)\n",
    "plt.title('No-show Rate by Scholarship Status')\n",
    "plt.xlabel('On Scholarship (0=No, 1=Yes)')\n",
    "plt.ylabel('Average No-show Rate')\n",
    "plt.show()\n"
   ]
  },
  {
   "cell_type": "code",
   "execution_count": 25,
   "id": "174b203e",
   "metadata": {},
   "outputs": [
    {
     "data": {
      "image/png": "[encoded data removed]",
      "text/plain": [
       "<Figure size 700x400 with 1 Axes>"
      ]
     },
     "metadata": {},
     "output_type": "display_data"
    }
   ],
   "source": [
    "import seaborn as sns\n",
    "import matplotlib.pyplot as plt\n",
    "\n",
    "plt.figure(figsize=(7,4))\n",
    "sns.countplot(x='SMS_received', hue='No-show', data=df)\n",
    "plt.title('No-show by SMS Reminder')\n",
    "plt.xlabel('SMS Reminder Received (0 = No, 1 = Yes)')\n",
    "plt.ylabel('Number of Appointments')\n",
    "plt.legend(title='No-show', labels=['Showed Up', 'No-show'])\n",
    "plt.show()\n"
   ]
  },
  {
   "cell_type": "code",
   "execution_count": 26,
   "id": "74c37081",
   "metadata": {},
   "outputs": [
    {
     "data": {
      "image/png": "[encoded data removed]",
      "text/plain": [
       "<Figure size 700x400 with 1 Axes>"
      ]
     },
     "metadata": {},
     "output_type": "display_data"
    }
   ],
   "source": [
    "plt.figure(figsize=(7,4))\n",
    "sns.countplot(x='Scholarship', hue='No-show', data=df)\n",
    "plt.title('No-show by Scholarship Status')\n",
    "plt.xlabel('On Scholarship (0 = No, 1 = Yes)')\n",
    "plt.ylabel('Number of Appointments')\n",
    "plt.legend(title='No-show', labels=['Showed Up', 'No-show'])\n",
    "plt.show()\n"
   ]
  },
  {
   "cell_type": "code",
   "execution_count": 27,
   "id": "82dd959d",
   "metadata": {},
   "outputs": [
    {
     "data": {
      "text/plain": [
       "Index(['Gender', 'ScheduledDay', 'AppointmentDay', 'Age', 'Neighbourhood',\n",
       "       'Scholarship', 'Hipertension', 'Diabetes', 'Alcoholism', 'Handcap',\n",
       "       'SMS_received', 'No-show', 'Scheduled_Date', 'Appointment_Date',\n",
       "       'Scheduled_Time', 'Appointment_Time', 'days_difference'],\n",
       "      dtype='object')"
      ]
     },
     "execution_count": 27,
     "metadata": {},
     "output_type": "execute_result"
    }
   ],
   "source": [
    "df.columns"
   ]
  },
  {
   "cell_type": "code",
   "execution_count": 28,
   "id": "6578cc88",
   "metadata": {},
   "outputs": [
    {
     "data": {
      "image/png": "[encoded data removed]",
      "text/plain": [
       "<Figure size 700x400 with 1 Axes>"
      ]
     },
     "metadata": {},
     "output_type": "display_data"
    }
   ],
   "source": [
    "plt.figure(figsize=(7,4))\n",
    "sns.countplot(x='Hipertension', hue='No-show', data=df)\n",
    "plt.title('No-show by Hypertension Status')\n",
    "plt.xlabel('Hypertension (0 = No, 1 = Yes)')\n",
    "plt.ylabel('Number of Appointments')\n",
    "plt.legend(title='No-show', labels=['Showed Up', 'No-show'])\n",
    "plt.show()\n"
   ]
  },
  {
   "cell_type": "code",
   "execution_count": 29,
   "id": "1bbd5a07",
   "metadata": {},
   "outputs": [
    {
     "data": {
      "image/png": "[encoded data removed]",
      "text/plain": [
       "<Figure size 1000x500 with 1 Axes>"
      ]
     },
     "metadata": {},
     "output_type": "display_data"
    }
   ],
   "source": [
    "plt.figure(figsize=(10,5))\n",
    "sns.histplot(data=df, x='Age', hue='No-show', bins=40, multiple='stack', palette='coolwarm')\n",
    "plt.title('Distribution of Ages by No-show Status')\n",
    "plt.xlabel('Age')\n",
    "plt.ylabel('Count')\n",
    "plt.legend(title='No-show', labels=['Showed Up', 'No-show'])\n",
    "plt.show()\n"
   ]
  },
  {
   "cell_type": "code",
   "execution_count": 30,
   "id": "baf4d1bd",
   "metadata": {},
   "outputs": [
    {
     "data": {
      "image/png": "[encoded data removed]",
      "text/plain": [
       "<Figure size 1000x800 with 2 Axes>"
      ]
     },
     "metadata": {},
     "output_type": "display_data"
    }
   ],
   "source": [
    "numeric_df = df.select_dtypes(include=[\"number\"])\n",
    "\n",
    "# Calculate correlations\n",
    "corr = numeric_df.corr()\n",
    "\n",
    "# Draw the heatmap\n",
    "plt.figure(figsize=(10,8))\n",
    "sns.heatmap(corr, annot=True, cmap=\"coolwarm\", center=0, fmt=\".2f\")\n",
    "plt.title(\"Correlation Heatmap\")\n",
    "plt.show()"
   ]
  },
  {
   "cell_type": "code",
   "execution_count": null,
   "id": "0aef4a15",
   "metadata": {},
   "outputs": [],
   "source": []
  },
  {
   "cell_type": "code",
   "execution_count": 32,
   "id": "39920f09",
   "metadata": {},
   "outputs": [
    {
     "data": {
      "application/vnd.microsoft.datawrangler.viewer.v0+json": {
       "columns": [
        {
         "name": "index",
         "rawType": "int64",
         "type": "integer"
        },
        {
         "name": "Gender",
         "rawType": "object",
         "type": "string"
        },
        {
         "name": "ScheduledDay",
         "rawType": "datetime64[ns, UTC]",
         "type": "unknown"
        },
        {
         "name": "AppointmentDay",
         "rawType": "datetime64[ns, UTC]",
         "type": "unknown"
        },
        {
         "name": "Age",
         "rawType": "int64",
         "type": "integer"
        },
        {
         "name": "Neighbourhood",
         "rawType": "object",
         "type": "string"
        },
        {
         "name": "Scholarship",
         "rawType": "int64",
         "type": "integer"
        },
        {
         "name": "Hipertension",
         "rawType": "int64",
         "type": "integer"
        },
        {
         "name": "Diabetes",
         "rawType": "int64",
         "type": "integer"
        },
        {
         "name": "Alcoholism",
         "rawType": "int64",
         "type": "integer"
        },
        {
         "name": "Handcap",
         "rawType": "int64",
         "type": "integer"
        },
        {
         "name": "SMS_received",
         "rawType": "int64",
         "type": "integer"
        },
        {
         "name": "No-show",
         "rawType": "int64",
         "type": "integer"
        },
        {
         "name": "Scheduled_Date",
         "rawType": "object",
         "type": "unknown"
        },
        {
         "name": "Appointment_Date",
         "rawType": "object",
         "type": "unknown"
        },
        {
         "name": "Scheduled_Time",
         "rawType": "object",
         "type": "unknown"
        },
        {
         "name": "Appointment_Time",
         "rawType": "object",
         "type": "unknown"
        },
        {
         "name": "days_difference",
         "rawType": "int64",
         "type": "integer"
        }
       ],
       "ref": "939cbe8a-583a-43c0-b0bf-8635c292e624",
       "rows": [
        [
         "0",
         "F",
         "2016-04-29 18:38:08+00:00",
         "2016-04-29 00:00:00+00:00",
         "62",
         "JARDIM DA PENHA",
         "0",
         "1",
         "0",
         "0",
         "0",
         "0",
         "0",
         "2016-04-29",
         "2016-04-29",
         "18:38:08",
         "00:00:00",
         "0"
        ],
        [
         "1",
         "M",
         "2016-04-29 16:08:27+00:00",
         "2016-04-29 00:00:00+00:00",
         "56",
         "JARDIM DA PENHA",
         "0",
         "0",
         "0",
         "0",
         "0",
         "0",
         "0",
         "2016-04-29",
         "2016-04-29",
         "16:08:27",
         "00:00:00",
         "0"
        ],
        [
         "2",
         "F",
         "2016-04-29 16:19:04+00:00",
         "2016-04-29 00:00:00+00:00",
         "62",
         "MATA DA PRAIA",
         "0",
         "0",
         "0",
         "0",
         "0",
         "0",
         "0",
         "2016-04-29",
         "2016-04-29",
         "16:19:04",
         "00:00:00",
         "0"
        ],
        [
         "3",
         "F",
         "2016-04-29 17:29:31+00:00",
         "2016-04-29 00:00:00+00:00",
         "8",
         "PONTAL DE CAMBURI",
         "0",
         "0",
         "0",
         "0",
         "0",
         "0",
         "0",
         "2016-04-29",
         "2016-04-29",
         "17:29:31",
         "00:00:00",
         "0"
        ],
        [
         "4",
         "F",
         "2016-04-29 16:07:23+00:00",
         "2016-04-29 00:00:00+00:00",
         "56",
         "JARDIM DA PENHA",
         "0",
         "1",
         "1",
         "0",
         "0",
         "0",
         "0",
         "2016-04-29",
         "2016-04-29",
         "16:07:23",
         "00:00:00",
         "0"
        ],
        [
         "5",
         "F",
         "2016-04-27 08:36:51+00:00",
         "2016-04-29 00:00:00+00:00",
         "76",
         "REPÚBLICA",
         "0",
         "1",
         "0",
         "0",
         "0",
         "0",
         "0",
         "2016-04-27",
         "2016-04-29",
         "08:36:51",
         "00:00:00",
         "2"
        ],
        [
         "6",
         "F",
         "2016-04-27 15:05:12+00:00",
         "2016-04-29 00:00:00+00:00",
         "23",
         "GOIABEIRAS",
         "0",
         "0",
         "0",
         "0",
         "0",
         "0",
         "1",
         "2016-04-27",
         "2016-04-29",
         "15:05:12",
         "00:00:00",
         "2"
        ],
        [
         "7",
         "F",
         "2016-04-27 15:39:58+00:00",
         "2016-04-29 00:00:00+00:00",
         "39",
         "GOIABEIRAS",
         "0",
         "0",
         "0",
         "0",
         "0",
         "0",
         "1",
         "2016-04-27",
         "2016-04-29",
         "15:39:58",
         "00:00:00",
         "2"
        ],
        [
         "8",
         "F",
         "2016-04-29 08:02:16+00:00",
         "2016-04-29 00:00:00+00:00",
         "21",
         "ANDORINHAS",
         "0",
         "0",
         "0",
         "0",
         "0",
         "0",
         "0",
         "2016-04-29",
         "2016-04-29",
         "08:02:16",
         "00:00:00",
         "0"
        ],
        [
         "9",
         "F",
         "2016-04-27 12:48:25+00:00",
         "2016-04-29 00:00:00+00:00",
         "19",
         "CONQUISTA",
         "0",
         "0",
         "0",
         "0",
         "0",
         "0",
         "0",
         "2016-04-27",
         "2016-04-29",
         "12:48:25",
         "00:00:00",
         "2"
        ],
        [
         "10",
         "F",
         "2016-04-27 14:58:11+00:00",
         "2016-04-29 00:00:00+00:00",
         "30",
         "NOVA PALESTINA",
         "0",
         "0",
         "0",
         "0",
         "0",
         "0",
         "0",
         "2016-04-27",
         "2016-04-29",
         "14:58:11",
         "00:00:00",
         "2"
        ],
        [
         "11",
         "M",
         "2016-04-26 08:44:12+00:00",
         "2016-04-29 00:00:00+00:00",
         "29",
         "NOVA PALESTINA",
         "0",
         "0",
         "0",
         "0",
         "0",
         "1",
         "1",
         "2016-04-26",
         "2016-04-29",
         "08:44:12",
         "00:00:00",
         "3"
        ],
        [
         "12",
         "F",
         "2016-04-28 11:33:51+00:00",
         "2016-04-29 00:00:00+00:00",
         "22",
         "NOVA PALESTINA",
         "1",
         "0",
         "0",
         "0",
         "0",
         "0",
         "0",
         "2016-04-28",
         "2016-04-29",
         "11:33:51",
         "00:00:00",
         "1"
        ],
        [
         "13",
         "M",
         "2016-04-28 14:52:07+00:00",
         "2016-04-29 00:00:00+00:00",
         "28",
         "NOVA PALESTINA",
         "0",
         "0",
         "0",
         "0",
         "0",
         "0",
         "0",
         "2016-04-28",
         "2016-04-29",
         "14:52:07",
         "00:00:00",
         "1"
        ],
        [
         "14",
         "F",
         "2016-04-28 10:06:24+00:00",
         "2016-04-29 00:00:00+00:00",
         "54",
         "NOVA PALESTINA",
         "0",
         "0",
         "0",
         "0",
         "0",
         "0",
         "0",
         "2016-04-28",
         "2016-04-29",
         "10:06:24",
         "00:00:00",
         "1"
        ],
        [
         "15",
         "F",
         "2016-04-26 08:47:27+00:00",
         "2016-04-29 00:00:00+00:00",
         "15",
         "NOVA PALESTINA",
         "0",
         "0",
         "0",
         "0",
         "0",
         "1",
         "0",
         "2016-04-26",
         "2016-04-29",
         "08:47:27",
         "00:00:00",
         "3"
        ],
        [
         "16",
         "M",
         "2016-04-28 08:51:47+00:00",
         "2016-04-29 00:00:00+00:00",
         "50",
         "NOVA PALESTINA",
         "0",
         "0",
         "0",
         "0",
         "0",
         "0",
         "0",
         "2016-04-28",
         "2016-04-29",
         "08:51:47",
         "00:00:00",
         "1"
        ],
        [
         "17",
         "F",
         "2016-04-28 09:28:57+00:00",
         "2016-04-29 00:00:00+00:00",
         "40",
         "CONQUISTA",
         "1",
         "0",
         "0",
         "0",
         "0",
         "0",
         "1",
         "2016-04-28",
         "2016-04-29",
         "09:28:57",
         "00:00:00",
         "1"
        ],
        [
         "18",
         "F",
         "2016-04-26 10:54:18+00:00",
         "2016-04-29 00:00:00+00:00",
         "30",
         "NOVA PALESTINA",
         "1",
         "0",
         "0",
         "0",
         "0",
         "1",
         "0",
         "2016-04-26",
         "2016-04-29",
         "10:54:18",
         "00:00:00",
         "3"
        ],
        [
         "19",
         "F",
         "2016-04-29 10:43:14+00:00",
         "2016-04-29 00:00:00+00:00",
         "46",
         "DA PENHA",
         "0",
         "0",
         "0",
         "0",
         "0",
         "0",
         "0",
         "2016-04-29",
         "2016-04-29",
         "10:43:14",
         "00:00:00",
         "0"
        ],
        [
         "20",
         "F",
         "2016-04-27 07:51:14+00:00",
         "2016-04-29 00:00:00+00:00",
         "30",
         "NOVA PALESTINA",
         "0",
         "0",
         "0",
         "0",
         "0",
         "0",
         "1",
         "2016-04-27",
         "2016-04-29",
         "07:51:14",
         "00:00:00",
         "2"
        ],
        [
         "21",
         "F",
         "2016-04-27 10:50:45+00:00",
         "2016-04-29 00:00:00+00:00",
         "4",
         "CONQUISTA",
         "0",
         "0",
         "0",
         "0",
         "0",
         "0",
         "1",
         "2016-04-27",
         "2016-04-29",
         "10:50:45",
         "00:00:00",
         "2"
        ],
        [
         "22",
         "M",
         "2016-04-25 13:29:16+00:00",
         "2016-04-29 00:00:00+00:00",
         "13",
         "CONQUISTA",
         "0",
         "0",
         "0",
         "0",
         "0",
         "1",
         "1",
         "2016-04-25",
         "2016-04-29",
         "13:29:16",
         "00:00:00",
         "4"
        ],
        [
         "23",
         "F",
         "2016-04-28 10:27:05+00:00",
         "2016-04-29 00:00:00+00:00",
         "46",
         "CONQUISTA",
         "0",
         "0",
         "0",
         "0",
         "0",
         "0",
         "0",
         "2016-04-28",
         "2016-04-29",
         "10:27:05",
         "00:00:00",
         "1"
        ],
        [
         "24",
         "F",
         "2016-04-29 14:19:19+00:00",
         "2016-04-29 00:00:00+00:00",
         "65",
         "TABUAZEIRO",
         "0",
         "0",
         "0",
         "0",
         "0",
         "0",
         "0",
         "2016-04-29",
         "2016-04-29",
         "14:19:19",
         "00:00:00",
         "0"
        ],
        [
         "25",
         "M",
         "2016-04-26 15:04:17+00:00",
         "2016-04-29 00:00:00+00:00",
         "46",
         "CONQUISTA",
         "0",
         "1",
         "0",
         "0",
         "0",
         "1",
         "0",
         "2016-04-26",
         "2016-04-29",
         "15:04:17",
         "00:00:00",
         "3"
        ],
        [
         "26",
         "F",
         "2016-04-29 14:19:42+00:00",
         "2016-04-29 00:00:00+00:00",
         "45",
         "BENTO FERREIRA",
         "0",
         "1",
         "0",
         "0",
         "0",
         "0",
         "0",
         "2016-04-29",
         "2016-04-29",
         "14:19:42",
         "00:00:00",
         "0"
        ],
        [
         "27",
         "F",
         "2016-04-27 10:51:45+00:00",
         "2016-04-29 00:00:00+00:00",
         "4",
         "CONQUISTA",
         "0",
         "0",
         "0",
         "0",
         "0",
         "0",
         "0",
         "2016-04-27",
         "2016-04-29",
         "10:51:45",
         "00:00:00",
         "2"
        ],
        [
         "28",
         "M",
         "2016-04-29 15:48:02+00:00",
         "2016-04-29 00:00:00+00:00",
         "51",
         "SÃO PEDRO",
         "0",
         "0",
         "0",
         "0",
         "0",
         "0",
         "0",
         "2016-04-29",
         "2016-04-29",
         "15:48:02",
         "00:00:00",
         "0"
        ],
        [
         "29",
         "F",
         "2016-04-29 15:16:29+00:00",
         "2016-04-29 00:00:00+00:00",
         "32",
         "SANTA MARTHA",
         "0",
         "0",
         "0",
         "0",
         "0",
         "0",
         "0",
         "2016-04-29",
         "2016-04-29",
         "15:16:29",
         "00:00:00",
         "0"
        ],
        [
         "30",
         "F",
         "2016-04-27 10:24:52+00:00",
         "2016-04-29 00:00:00+00:00",
         "46",
         "NOVA PALESTINA",
         "0",
         "0",
         "0",
         "0",
         "0",
         "0",
         "0",
         "2016-04-27",
         "2016-04-29",
         "10:24:52",
         "00:00:00",
         "2"
        ],
        [
         "31",
         "M",
         "2016-04-27 12:07:14+00:00",
         "2016-04-29 00:00:00+00:00",
         "12",
         "NOVA PALESTINA",
         "1",
         "0",
         "0",
         "0",
         "0",
         "0",
         "1",
         "2016-04-27",
         "2016-04-29",
         "12:07:14",
         "00:00:00",
         "2"
        ],
        [
         "32",
         "M",
         "2016-04-29 07:30:27+00:00",
         "2016-04-29 00:00:00+00:00",
         "61",
         "SÃO CRISTÓVÃO",
         "0",
         "1",
         "0",
         "0",
         "0",
         "0",
         "0",
         "2016-04-29",
         "2016-04-29",
         "07:30:27",
         "00:00:00",
         "0"
        ],
        [
         "33",
         "F",
         "2016-04-25 15:01:04+00:00",
         "2016-04-29 00:00:00+00:00",
         "38",
         "SÃO CRISTÓVÃO",
         "1",
         "0",
         "0",
         "0",
         "0",
         "1",
         "0",
         "2016-04-25",
         "2016-04-29",
         "15:01:04",
         "00:00:00",
         "4"
        ],
        [
         "34",
         "F",
         "2016-04-29 07:34:30+00:00",
         "2016-04-29 00:00:00+00:00",
         "79",
         "SÃO CRISTÓVÃO",
         "0",
         "1",
         "0",
         "0",
         "0",
         "0",
         "0",
         "2016-04-29",
         "2016-04-29",
         "07:34:30",
         "00:00:00",
         "0"
        ],
        [
         "35",
         "M",
         "2016-04-29 07:34:42+00:00",
         "2016-04-29 00:00:00+00:00",
         "18",
         "SÃO CRISTÓVÃO",
         "0",
         "0",
         "0",
         "0",
         "0",
         "0",
         "0",
         "2016-04-29",
         "2016-04-29",
         "07:34:42",
         "00:00:00",
         "0"
        ],
        [
         "36",
         "F",
         "2016-04-29 07:35:19+00:00",
         "2016-04-29 00:00:00+00:00",
         "63",
         "SÃO CRISTÓVÃO",
         "0",
         "1",
         "1",
         "0",
         "0",
         "0",
         "0",
         "2016-04-29",
         "2016-04-29",
         "07:35:19",
         "00:00:00",
         "0"
        ],
        [
         "37",
         "F",
         "2016-04-29 07:35:56+00:00",
         "2016-04-29 00:00:00+00:00",
         "64",
         "TABUAZEIRO",
         "1",
         "1",
         "1",
         "0",
         "0",
         "0",
         "0",
         "2016-04-29",
         "2016-04-29",
         "07:35:56",
         "00:00:00",
         "0"
        ],
        [
         "38",
         "M",
         "2016-04-20 15:54:18+00:00",
         "2016-04-29 00:00:00+00:00",
         "85",
         "SÃO CRISTÓVÃO",
         "0",
         "1",
         "0",
         "0",
         "0",
         "1",
         "0",
         "2016-04-20",
         "2016-04-29",
         "15:54:18",
         "00:00:00",
         "9"
        ],
        [
         "39",
         "F",
         "2016-04-29 09:21:13+00:00",
         "2016-04-29 00:00:00+00:00",
         "59",
         "SÃO CRISTÓVÃO",
         "0",
         "0",
         "0",
         "0",
         "0",
         "0",
         "0",
         "2016-04-29",
         "2016-04-29",
         "09:21:13",
         "00:00:00",
         "0"
        ],
        [
         "40",
         "F",
         "2016-04-28 14:14:16+00:00",
         "2016-04-29 00:00:00+00:00",
         "55",
         "TABUAZEIRO",
         "0",
         "0",
         "0",
         "0",
         "0",
         "0",
         "0",
         "2016-04-28",
         "2016-04-29",
         "14:14:16",
         "00:00:00",
         "1"
        ],
        [
         "41",
         "F",
         "2016-04-28 09:20:36+00:00",
         "2016-04-29 00:00:00+00:00",
         "71",
         "MARUÍPE",
         "0",
         "0",
         "1",
         "0",
         "0",
         "0",
         "0",
         "2016-04-28",
         "2016-04-29",
         "09:20:36",
         "00:00:00",
         "1"
        ],
        [
         "42",
         "F",
         "2016-04-28 08:34:54+00:00",
         "2016-04-29 00:00:00+00:00",
         "50",
         "SÃO CRISTÓVÃO",
         "0",
         "0",
         "0",
         "0",
         "0",
         "0",
         "0",
         "2016-04-28",
         "2016-04-29",
         "08:34:54",
         "00:00:00",
         "1"
        ],
        [
         "43",
         "F",
         "2016-04-29 14:02:16+00:00",
         "2016-04-29 00:00:00+00:00",
         "49",
         "SÃO CRISTÓVÃO",
         "0",
         "1",
         "0",
         "0",
         "0",
         "0",
         "0",
         "2016-04-29",
         "2016-04-29",
         "14:02:16",
         "00:00:00",
         "0"
        ],
        [
         "44",
         "F",
         "2016-04-28 13:27:27+00:00",
         "2016-04-29 00:00:00+00:00",
         "78",
         "SÃO CRISTÓVÃO",
         "0",
         "1",
         "1",
         "0",
         "0",
         "0",
         "1",
         "2016-04-28",
         "2016-04-29",
         "13:27:27",
         "00:00:00",
         "1"
        ],
        [
         "45",
         "F",
         "2016-04-28 14:11:24+00:00",
         "2016-04-29 00:00:00+00:00",
         "31",
         "SÃO CRISTÓVÃO",
         "0",
         "0",
         "0",
         "0",
         "0",
         "0",
         "0",
         "2016-04-28",
         "2016-04-29",
         "14:11:24",
         "00:00:00",
         "1"
        ],
        [
         "46",
         "M",
         "2016-04-25 12:44:36+00:00",
         "2016-04-29 00:00:00+00:00",
         "58",
         "SÃO CRISTÓVÃO",
         "0",
         "1",
         "0",
         "1",
         "0",
         "1",
         "0",
         "2016-04-25",
         "2016-04-29",
         "12:44:36",
         "00:00:00",
         "4"
        ],
        [
         "47",
         "F",
         "2016-04-28 08:51:26+00:00",
         "2016-04-29 00:00:00+00:00",
         "39",
         "MARUÍPE",
         "0",
         "1",
         "1",
         "0",
         "0",
         "0",
         "0",
         "2016-04-28",
         "2016-04-29",
         "08:51:26",
         "00:00:00",
         "1"
        ],
        [
         "48",
         "F",
         "2016-04-26 07:19:49+00:00",
         "2016-04-29 00:00:00+00:00",
         "58",
         "SÃO CRISTÓVÃO",
         "0",
         "0",
         "0",
         "0",
         "0",
         "1",
         "1",
         "2016-04-26",
         "2016-04-29",
         "07:19:49",
         "00:00:00",
         "3"
        ],
        [
         "49",
         "F",
         "2016-03-31 17:11:17+00:00",
         "2016-04-29 00:00:00+00:00",
         "27",
         "GRANDE VITÓRIA",
         "0",
         "0",
         "0",
         "0",
         "0",
         "1",
         "1",
         "2016-03-31",
         "2016-04-29",
         "17:11:17",
         "00:00:00",
         "29"
        ]
       ],
       "shape": {
        "columns": 17,
        "rows": 110522
       }
      },
      "text/html": [
       "<div>\n",
       "<style scoped>\n",
       "    .dataframe tbody tr th:only-of-type {\n",
       "        vertical-align: middle;\n",
       "    }\n",
       "\n",
       "    .dataframe tbody tr th {\n",
       "        vertical-align: top;\n",
       "    }\n",
       "\n",
       "    .dataframe thead th {\n",
       "        text-align: right;\n",
       "    }\n",
       "</style>\n",
       "<table border=\"1\" class=\"dataframe\">\n",
       "  <thead>\n",
       "    <tr style=\"text-align: right;\">\n",
       "      <th></th>\n",
       "      <th>Gender</th>\n",
       "      <th>ScheduledDay</th>\n",
       "      <th>AppointmentDay</th>\n",
       "      <th>Age</th>\n",
       "      <th>Neighbourhood</th>\n",
       "      <th>Scholarship</th>\n",
       "      <th>Hipertension</th>\n",
       "      <th>Diabetes</th>\n",
       "      <th>Alcoholism</th>\n",
       "      <th>Handcap</th>\n",
       "      <th>SMS_received</th>\n",
       "      <th>No-show</th>\n",
       "      <th>Scheduled_Date</th>\n",
       "      <th>Appointment_Date</th>\n",
       "      <th>Scheduled_Time</th>\n",
       "      <th>Appointment_Time</th>\n",
       "      <th>days_difference</th>\n",
       "    </tr>\n",
       "  </thead>\n",
       "  <tbody>\n",
       "    <tr>\n",
       "      <th>0</th>\n",
       "      <td>F</td>\n",
       "      <td>2016-04-29 18:38:08+00:00</td>\n",
       "      <td>2016-04-29 00:00:00+00:00</td>\n",
       "      <td>62</td>\n",
       "      <td>JARDIM DA PENHA</td>\n",
       "      <td>0</td>\n",
       "      <td>1</td>\n",
       "      <td>0</td>\n",
       "      <td>0</td>\n",
       "      <td>0</td>\n",
       "      <td>0</td>\n",
       "      <td>0</td>\n",
       "      <td>2016-04-29</td>\n",
       "      <td>2016-04-29</td>\n",
       "      <td>18:38:08</td>\n",
       "      <td>00:00:00</td>\n",
       "      <td>0</td>\n",
       "    </tr>\n",
       "    <tr>\n",
       "      <th>1</th>\n",
       "      <td>M</td>\n",
       "      <td>2016-04-29 16:08:27+00:00</td>\n",
       "      <td>2016-04-29 00:00:00+00:00</td>\n",
       "      <td>56</td>\n",
       "      <td>JARDIM DA PENHA</td>\n",
       "      <td>0</td>\n",
       "      <td>0</td>\n",
       "      <td>0</td>\n",
       "      <td>0</td>\n",
       "      <td>0</td>\n",
       "      <td>0</td>\n",
       "      <td>0</td>\n",
       "      <td>2016-04-29</td>\n",
       "      <td>2016-04-29</td>\n",
       "      <td>16:08:27</td>\n",
       "      <td>00:00:00</td>\n",
       "      <td>0</td>\n",
       "    </tr>\n",
       "    <tr>\n",
       "      <th>2</th>\n",
       "      <td>F</td>\n",
       "      <td>2016-04-29 16:19:04+00:00</td>\n",
       "      <td>2016-04-29 00:00:00+00:00</td>\n",
       "      <td>62</td>\n",
       "      <td>MATA DA PRAIA</td>\n",
       "      <td>0</td>\n",
       "      <td>0</td>\n",
       "      <td>0</td>\n",
       "      <td>0</td>\n",
       "      <td>0</td>\n",
       "      <td>0</td>\n",
       "      <td>0</td>\n",
       "      <td>2016-04-29</td>\n",
       "      <td>2016-04-29</td>\n",
       "      <td>16:19:04</td>\n",
       "      <td>00:00:00</td>\n",
       "      <td>0</td>\n",
       "    </tr>\n",
       "    <tr>\n",
       "      <th>3</th>\n",
       "      <td>F</td>\n",
       "      <td>2016-04-29 17:29:31+00:00</td>\n",
       "      <td>2016-04-29 00:00:00+00:00</td>\n",
       "      <td>8</td>\n",
       "      <td>PONTAL DE CAMBURI</td>\n",
       "      <td>0</td>\n",
       "      <td>0</td>\n",
       "      <td>0</td>\n",
       "      <td>0</td>\n",
       "      <td>0</td>\n",
       "      <td>0</td>\n",
       "      <td>0</td>\n",
       "      <td>2016-04-29</td>\n",
       "      <td>2016-04-29</td>\n",
       "      <td>17:29:31</td>\n",
       "      <td>00:00:00</td>\n",
       "      <td>0</td>\n",
       "    </tr>\n",
       "    <tr>\n",
       "      <th>4</th>\n",
       "      <td>F</td>\n",
       "      <td>2016-04-29 16:07:23+00:00</td>\n",
       "      <td>2016-04-29 00:00:00+00:00</td>\n",
       "      <td>56</td>\n",
       "      <td>JARDIM DA PENHA</td>\n",
       "      <td>0</td>\n",
       "      <td>1</td>\n",
       "      <td>1</td>\n",
       "      <td>0</td>\n",
       "      <td>0</td>\n",
       "      <td>0</td>\n",
       "      <td>0</td>\n",
       "      <td>2016-04-29</td>\n",
       "      <td>2016-04-29</td>\n",
       "      <td>16:07:23</td>\n",
       "      <td>00:00:00</td>\n",
       "      <td>0</td>\n",
       "    </tr>\n",
       "    <tr>\n",
       "      <th>...</th>\n",
       "      <td>...</td>\n",
       "      <td>...</td>\n",
       "      <td>...</td>\n",
       "      <td>...</td>\n",
       "      <td>...</td>\n",
       "      <td>...</td>\n",
       "      <td>...</td>\n",
       "      <td>...</td>\n",
       "      <td>...</td>\n",
       "      <td>...</td>\n",
       "      <td>...</td>\n",
       "      <td>...</td>\n",
       "      <td>...</td>\n",
       "      <td>...</td>\n",
       "      <td>...</td>\n",
       "      <td>...</td>\n",
       "      <td>...</td>\n",
       "    </tr>\n",
       "    <tr>\n",
       "      <th>110522</th>\n",
       "      <td>F</td>\n",
       "      <td>2016-05-03 09:15:35+00:00</td>\n",
       "      <td>2016-06-07 00:00:00+00:00</td>\n",
       "      <td>56</td>\n",
       "      <td>MARIA ORTIZ</td>\n",
       "      <td>0</td>\n",
       "      <td>0</td>\n",
       "      <td>0</td>\n",
       "      <td>0</td>\n",
       "      <td>0</td>\n",
       "      <td>1</td>\n",
       "      <td>0</td>\n",
       "      <td>2016-05-03</td>\n",
       "      <td>2016-06-07</td>\n",
       "      <td>09:15:35</td>\n",
       "      <td>00:00:00</td>\n",
       "      <td>35</td>\n",
       "    </tr>\n",
       "    <tr>\n",
       "      <th>110523</th>\n",
       "      <td>F</td>\n",
       "      <td>2016-05-03 07:27:33+00:00</td>\n",
       "      <td>2016-06-07 00:00:00+00:00</td>\n",
       "      <td>51</td>\n",
       "      <td>MARIA ORTIZ</td>\n",
       "      <td>0</td>\n",
       "      <td>0</td>\n",
       "      <td>0</td>\n",
       "      <td>0</td>\n",
       "      <td>0</td>\n",
       "      <td>1</td>\n",
       "      <td>0</td>\n",
       "      <td>2016-05-03</td>\n",
       "      <td>2016-06-07</td>\n",
       "      <td>07:27:33</td>\n",
       "      <td>00:00:00</td>\n",
       "      <td>35</td>\n",
       "    </tr>\n",
       "    <tr>\n",
       "      <th>110524</th>\n",
       "      <td>F</td>\n",
       "      <td>2016-04-27 16:03:52+00:00</td>\n",
       "      <td>2016-06-07 00:00:00+00:00</td>\n",
       "      <td>21</td>\n",
       "      <td>MARIA ORTIZ</td>\n",
       "      <td>0</td>\n",
       "      <td>0</td>\n",
       "      <td>0</td>\n",
       "      <td>0</td>\n",
       "      <td>0</td>\n",
       "      <td>1</td>\n",
       "      <td>0</td>\n",
       "      <td>2016-04-27</td>\n",
       "      <td>2016-06-07</td>\n",
       "      <td>16:03:52</td>\n",
       "      <td>00:00:00</td>\n",
       "      <td>41</td>\n",
       "    </tr>\n",
       "    <tr>\n",
       "      <th>110525</th>\n",
       "      <td>F</td>\n",
       "      <td>2016-04-27 15:09:23+00:00</td>\n",
       "      <td>2016-06-07 00:00:00+00:00</td>\n",
       "      <td>38</td>\n",
       "      <td>MARIA ORTIZ</td>\n",
       "      <td>0</td>\n",
       "      <td>0</td>\n",
       "      <td>0</td>\n",
       "      <td>0</td>\n",
       "      <td>0</td>\n",
       "      <td>1</td>\n",
       "      <td>0</td>\n",
       "      <td>2016-04-27</td>\n",
       "      <td>2016-06-07</td>\n",
       "      <td>15:09:23</td>\n",
       "      <td>00:00:00</td>\n",
       "      <td>41</td>\n",
       "    </tr>\n",
       "    <tr>\n",
       "      <th>110526</th>\n",
       "      <td>F</td>\n",
       "      <td>2016-04-27 13:30:56+00:00</td>\n",
       "      <td>2016-06-07 00:00:00+00:00</td>\n",
       "      <td>54</td>\n",
       "      <td>MARIA ORTIZ</td>\n",
       "      <td>0</td>\n",
       "      <td>0</td>\n",
       "      <td>0</td>\n",
       "      <td>0</td>\n",
       "      <td>0</td>\n",
       "      <td>1</td>\n",
       "      <td>0</td>\n",
       "      <td>2016-04-27</td>\n",
       "      <td>2016-06-07</td>\n",
       "      <td>13:30:56</td>\n",
       "      <td>00:00:00</td>\n",
       "      <td>41</td>\n",
       "    </tr>\n",
       "  </tbody>\n",
       "</table>\n",
       "<p>110522 rows × 17 columns</p>\n",
       "</div>"
      ],
      "text/plain": [
       "       Gender              ScheduledDay            AppointmentDay  Age  \\\n",
       "0           F 2016-04-29 18:38:08+00:00 2016-04-29 00:00:00+00:00   62   \n",
       "1           M 2016-04-29 16:08:27+00:00 2016-04-29 00:00:00+00:00   56   \n",
       "2           F 2016-04-29 16:19:04+00:00 2016-04-29 00:00:00+00:00   62   \n",
       "3           F 2016-04-29 17:29:31+00:00 2016-04-29 00:00:00+00:00    8   \n",
       "4           F 2016-04-29 16:07:23+00:00 2016-04-29 00:00:00+00:00   56   \n",
       "...       ...                       ...                       ...  ...   \n",
       "110522      F 2016-05-03 09:15:35+00:00 2016-06-07 00:00:00+00:00   56   \n",
       "110523      F 2016-05-03 07:27:33+00:00 2016-06-07 00:00:00+00:00   51   \n",
       "110524      F 2016-04-27 16:03:52+00:00 2016-06-07 00:00:00+00:00   21   \n",
       "110525      F 2016-04-27 15:09:23+00:00 2016-06-07 00:00:00+00:00   38   \n",
       "110526      F 2016-04-27 13:30:56+00:00 2016-06-07 00:00:00+00:00   54   \n",
       "\n",
       "            Neighbourhood  Scholarship  Hipertension  Diabetes  Alcoholism  \\\n",
       "0         JARDIM DA PENHA            0             1         0           0   \n",
       "1         JARDIM DA PENHA            0             0         0           0   \n",
       "2           MATA DA PRAIA            0             0         0           0   \n",
       "3       PONTAL DE CAMBURI            0             0         0           0   \n",
       "4         JARDIM DA PENHA            0             1         1           0   \n",
       "...                   ...          ...           ...       ...         ...   \n",
       "110522        MARIA ORTIZ            0             0         0           0   \n",
       "110523        MARIA ORTIZ            0             0         0           0   \n",
       "110524        MARIA ORTIZ            0             0         0           0   \n",
       "110525        MARIA ORTIZ            0             0         0           0   \n",
       "110526        MARIA ORTIZ            0             0         0           0   \n",
       "\n",
       "        Handcap  SMS_received  No-show Scheduled_Date Appointment_Date  \\\n",
       "0             0             0        0     2016-04-29       2016-04-29   \n",
       "1             0             0        0     2016-04-29       2016-04-29   \n",
       "2             0             0        0     2016-04-29       2016-04-29   \n",
       "3             0             0        0     2016-04-29       2016-04-29   \n",
       "4             0             0        0     2016-04-29       2016-04-29   \n",
       "...         ...           ...      ...            ...              ...   \n",
       "110522        0             1        0     2016-05-03       2016-06-07   \n",
       "110523        0             1        0     2016-05-03       2016-06-07   \n",
       "110524        0             1        0     2016-04-27       2016-06-07   \n",
       "110525        0             1        0     2016-04-27       2016-06-07   \n",
       "110526        0             1        0     2016-04-27       2016-06-07   \n",
       "\n",
       "       Scheduled_Time Appointment_Time  days_difference  \n",
       "0            18:38:08         00:00:00                0  \n",
       "1            16:08:27         00:00:00                0  \n",
       "2            16:19:04         00:00:00                0  \n",
       "3            17:29:31         00:00:00                0  \n",
       "4            16:07:23         00:00:00                0  \n",
       "...               ...              ...              ...  \n",
       "110522       09:15:35         00:00:00               35  \n",
       "110523       07:27:33         00:00:00               35  \n",
       "110524       16:03:52         00:00:00               41  \n",
       "110525       15:09:23         00:00:00               41  \n",
       "110526       13:30:56         00:00:00               41  \n",
       "\n",
       "[110522 rows x 17 columns]"
      ]
     },
     "execution_count": 32,
     "metadata": {},
     "output_type": "execute_result"
    }
   ],
   "source": [
    "df"
   ]
  },
  {
   "cell_type": "code",
   "execution_count": null,
   "id": "278efda8",
   "metadata": {},
   "outputs": [],
   "source": []
  },
  {
   "cell_type": "markdown",
   "id": "e533731d",
   "metadata": {},
   "source": [
    "## Model Training and Hyperparameter Tuning\n",
    "\n",
    "We experiment with Logistic Regression, Decision Trees, Random Forest, XGBoost, and ANN, using GridSearchCV for tuning.\n",
    "Focus on F1 score due to imbalanced classes.\n"
   ]
  },
  {
   "cell_type": "code",
   "execution_count": 33,
   "id": "07202b35",
   "metadata": {},
   "outputs": [],
   "source": [
    "from sklearn.model_selection import train_test_split\n",
    "features = [\n",
    "    \"Age\",\n",
    "    \"Scholarship\",\n",
    "    \"Hipertension\",\n",
    "    \"Diabetes\",\n",
    "    \"Alcoholism\",\n",
    "    \"Handcap\",\n",
    "    \"SMS_received\",\n",
    "    \"days_difference\"\n",
    "]\n",
    "\n",
    "X = df[features]\n",
    "y = df[\"No-show\"]\n",
    "\n",
    "X_train , X_test , y_train , y_test = train_test_split(X , y , random_state=42 , test_size=0.2)"
   ]
  },
  {
   "cell_type": "code",
   "execution_count": null,
   "id": "424ac376",
   "metadata": {},
   "outputs": [],
   "source": []
  },
  {
   "cell_type": "code",
   "execution_count": 34,
   "id": "f262567e",
   "metadata": {},
   "outputs": [],
   "source": [
    "from sklearn.linear_model import LogisticRegression\n",
    "from sklearn.tree import DecisionTreeClassifier\n",
    "from sklearn.ensemble import RandomForestClassifier\n",
    "from sklearn.svm import SVC\n",
    "from sklearn.metrics import accuracy_score, f1_score, recall_score, confusion_matrix\n",
    "\n",
    "models = {\n",
    "    \"Logistic Regression\": LogisticRegression(max_iter=1000),\n",
    "    \"Decision Tree\": DecisionTreeClassifier(),\n",
    "    \"Random Forest\": RandomForestClassifier(),\n",
    "    \"SVM\": SVC()\n",
    "}\n",
    "\n",
    "results = []\n",
    "\n",
    "for name, model in models.items():\n",
    "    model.fit(X_train, y_train)\n",
    "    preds = model.predict(X_test)\n",
    "    acc = accuracy_score(y_test, preds)\n",
    "    f1 = f1_score(y_test, preds)\n",
    "    rec = recall_score(y_test, preds)\n",
    "    results.append([name, acc, f1, rec])\n"
   ]
  },
  {
   "cell_type": "code",
   "execution_count": 35,
   "id": "34e9cb5d",
   "metadata": {},
   "outputs": [
    {
     "name": "stdout",
     "output_type": "stream",
     "text": [
      "                 Model  Accuracy  F1 Score    Recall\n",
      "0  Logistic Regression  0.799729  0.032773  0.017226\n",
      "1        Decision Tree  0.776928  0.211923  0.152274\n",
      "2        Random Forest  0.774395  0.234301  0.175241\n",
      "3                  SVM  0.803031  0.000000  0.000000\n"
     ]
    }
   ],
   "source": [
    "results_df = pd.DataFrame(results, columns=[\"Model\", \"Accuracy\", \"F1 Score\", \"Recall\"])\n",
    "print(results_df)"
   ]
  },
  {
   "cell_type": "code",
   "execution_count": 36,
   "id": "821e0150",
   "metadata": {},
   "outputs": [
    {
     "name": "stdout",
     "output_type": "stream",
     "text": [
      "Fitting 3 folds for each of 54 candidates, totalling 162 fits\n",
      "Best parameters found:  {'class_weight': 'balanced', 'max_depth': 10, 'min_samples_leaf': 1, 'min_samples_split': 10, 'n_estimators': 200}\n",
      "Best F1 score:  0.44624021209144704\n"
     ]
    }
   ],
   "source": [
    "from sklearn.model_selection import GridSearchCV\n",
    "from sklearn.ensemble import RandomForestClassifier\n",
    "\n",
    "# Define your grid\n",
    "param_grid = {\n",
    "    'n_estimators': [100, 200],\n",
    "    'max_depth': [None, 10, 20],\n",
    "    'min_samples_split': [2, 5, 10],\n",
    "    'min_samples_leaf': [1, 2, 4],\n",
    "    'class_weight': ['balanced']\n",
    "}\n",
    "\n",
    "rf = RandomForestClassifier(random_state=42)\n",
    "grid_search = GridSearchCV(\n",
    "    estimator=rf,\n",
    "    param_grid=param_grid,\n",
    "    scoring='f1',   # Focus on F1 for no-shows (minority class)\n",
    "    cv=3,\n",
    "    n_jobs=-1,\n",
    "    verbose=2\n",
    ")\n",
    "\n",
    "grid_search.fit(X_train, y_train)\n",
    "print(\"Best parameters found: \", grid_search.best_params_)\n",
    "print(\"Best F1 score: \", grid_search.best_score_)\n"
   ]
  },
  {
   "cell_type": "code",
   "execution_count": 37,
   "id": "a800ede6",
   "metadata": {},
   "outputs": [
    {
     "name": "stdout",
     "output_type": "stream",
     "text": [
      "              precision    recall  f1-score   support\n",
      "\n",
      "           0       0.92      0.53      0.67     17751\n",
      "           1       0.30      0.82      0.44      4354\n",
      "\n",
      "    accuracy                           0.59     22105\n",
      "   macro avg       0.61      0.67      0.56     22105\n",
      "weighted avg       0.80      0.59      0.63     22105\n",
      "\n",
      "[[9368 8383]\n",
      " [ 777 3577]]\n"
     ]
    }
   ],
   "source": [
    "best_model = grid_search.best_estimator_\n",
    "y_pred = best_model.predict(X_test)\n",
    "\n",
    "from sklearn.metrics import classification_report, confusion_matrix\n",
    "print(classification_report(y_test, y_pred))\n",
    "print(confusion_matrix(y_test, y_pred))\n"
   ]
  },
  {
   "cell_type": "code",
   "execution_count": 38,
   "id": "d6dbc60e",
   "metadata": {},
   "outputs": [
    {
     "name": "stdout",
     "output_type": "stream",
     "text": [
      "              precision    recall  f1-score   support\n",
      "\n",
      "           0       0.91      0.55      0.69     17751\n",
      "           1       0.30      0.79      0.44      4354\n",
      "\n",
      "    accuracy                           0.60     22105\n",
      "   macro avg       0.61      0.67      0.56     22105\n",
      "weighted avg       0.79      0.60      0.64     22105\n",
      "\n",
      "[[9783 7968]\n",
      " [ 927 3427]]\n"
     ]
    }
   ],
   "source": [
    "import xgboost as xgb\n",
    "from sklearn.metrics import classification_report, confusion_matrix\n",
    "\n",
    "# Initialize model with balanced weights for imbalanced dataset\n",
    "xgb_clf = xgb.XGBClassifier(\n",
    "    scale_pos_weight = (len(y_train) - sum(y_train)) / sum(y_train),  # Balance the positive class\n",
    "    use_label_encoder=False,\n",
    "    eval_metric='logloss',\n",
    "    random_state=42\n",
    ")\n",
    "\n",
    "# Train\n",
    "xgb_clf.fit(X_train, y_train)\n",
    "\n",
    "# Predict\n",
    "y_pred = xgb_clf.predict(X_test)\n",
    "\n",
    "# Evaluate\n",
    "print(classification_report(y_test, y_pred))\n",
    "print(confusion_matrix(y_test, y_pred))\n"
   ]
  },
  {
   "cell_type": "markdown",
   "id": "ec114e94",
   "metadata": {},
   "source": [
    "## Final Model Performance and Insights\n",
    "\n",
    "Discuss precision, recall, F1, and confusion matrix.\n",
    "Highlight feature importances driving predictions.\n"
   ]
  },
  {
   "cell_type": "code",
   "execution_count": 39,
   "id": "aacb1f5d",
   "metadata": {},
   "outputs": [
    {
     "data": {
      "image/png": "[encoded data removed]",
      "text/plain": [
       "<Figure size 640x480 with 1 Axes>"
      ]
     },
     "metadata": {},
     "output_type": "display_data"
    }
   ],
   "source": [
    "xgb.plot_importance(xgb_clf)\n",
    "plt.show()\n"
   ]
  },
  {
   "cell_type": "code",
   "execution_count": null,
   "id": "68f647b4",
   "metadata": {},
   "outputs": [],
   "source": []
  },
  {
   "cell_type": "code",
   "execution_count": null,
   "id": "a83f1e26",
   "metadata": {},
   "outputs": [],
   "source": []
  }
 ],
 "metadata": {
  "kernelspec": {
   "display_name": "Python 3",
   "language": "python",
   "name": "python3"
  },
  "language_info": {
   "codemirror_mode": {
    "name": "ipython",
    "version": 3
   },
   "file_extension": ".py",
   "mimetype": "text/x-python",
   "name": "python",
   "nbconvert_exporter": "python",
   "pygments_lexer": "ipython3",
   "version": "3.13.2"
  }
 },
 "nbformat": 4,
 "nbformat_minor": 5
}
